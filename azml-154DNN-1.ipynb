{
  "nbformat": 4,
  "nbformat_minor": 0,
  "metadata": {
    "colab": {
      "name": "보스턴 집값 추측하기 - pandas",
      "provenance": [],
      "collapsed_sections": [],
      "toc_visible": true,
      "machine_shape": "hm"
    },
    "kernelspec": {
      "name": "python3",
      "display_name": "Python 3"
    },
    "accelerator": "GPU"
  },
  "cells": [
    {
      "cell_type": "markdown",
      "metadata": {
        "id": "CRtrOczdJx2R"
      },
      "source": [
        "Keras DNN으로 집값 예측하기"
      ]
    },
    {
      "cell_type": "markdown",
      "metadata": {
        "id": "bXUkbVZTJ4T_"
      },
      "source": [
        "#1. input package"
      ]
    },
    {
      "cell_type": "code",
      "metadata": {
        "id": "xsH-_OqUaXh9"
      },
      "source": [
        "import pandas as pd\r\n",
        "import matplotlib.pyplot as plt\r\n",
        "import seaborn as sns\r\n",
        "import tensorflow as tf\r\n",
        "import numpy as np\r\n",
        "\r\n",
        "from time import time\r\n",
        "from keras.models import Sequential\r\n",
        "from keras.layers import Dense, Dropout\r\n",
        "from sklearn.preprocessing import StandardScaler\r\n",
        "from sklearn.model_selection import train_test_split\r\n",
        "\r\n",
        "\r\n",
        "MY_HIDDEN = 4000\r\n",
        "MY_EPOCH = 150\r\n",
        "MY_BATCH = 5"
      ],
      "execution_count": 1,
      "outputs": []
    },
    {
      "cell_type": "markdown",
      "metadata": {
        "id": "mOS7CECZOyol"
      },
      "source": [
        "#2. data processing"
      ]
    },
    {
      "cell_type": "code",
      "metadata": {
        "id": "zKSpjdkQAzXq"
      },
      "source": [
        "heading = ['CRIM', 'ZM', 'INDUS', 'CHAS', 'NOX', 'RM', 'AGE', 'DIS', 'RAD', 'TAX', 'PTRATIO', 'LSTAT', 'MEDV']\r\n",
        "raw = pd.read_csv('/content/drive/MyDrive/housing.csv')"
      ],
      "execution_count": 2,
      "outputs": []
    },
    {
      "cell_type": "code",
      "metadata": {
        "colab": {
          "base_uri": "https://localhost:8080/"
        },
        "id": "wUfTx4WBAzaF",
        "outputId": "c3779a13-44b9-4f87-96cd-df4ef374b9aa"
      },
      "source": [
        "print('원본 데이터 출력')\r\n",
        "print(raw.head(10))\r\n",
        "\r\n",
        "print('원본 데이터 통계')\r\n",
        "print(raw.describe())"
      ],
      "execution_count": 3,
      "outputs": [
        {
          "output_type": "stream",
          "text": [
            "원본 데이터 출력\n",
            "      CRIM    ZN  INDUS  CHAS    NOX  ...  RAD  TAX  PTRATIO  LSTAT  MEDV\n",
            "0  0.00632  18.0   2.31     0  0.538  ...    1  296     15.3   4.98  24.0\n",
            "1  0.02731   0.0   7.07     0  0.469  ...    2  242     17.8   9.14  21.6\n",
            "2  0.02729   0.0   7.07     0  0.469  ...    2  242     17.8   4.03  34.7\n",
            "3  0.03237   0.0   2.18     0  0.458  ...    3  222     18.7   2.94  33.4\n",
            "4  0.06905   0.0   2.18     0  0.458  ...    3  222     18.7   5.33  36.2\n",
            "5  0.02985   0.0   2.18     0  0.458  ...    3  222     18.7   5.21  28.7\n",
            "6  0.08829  12.5   7.87     0  0.524  ...    5  311     15.2  12.43  22.9\n",
            "7  0.14455  12.5   7.87     0  0.524  ...    5  311     15.2  19.15  27.1\n",
            "8  0.21124  12.5   7.87     0  0.524  ...    5  311     15.2  29.93  16.5\n",
            "9  0.17004  12.5   7.87     0  0.524  ...    5  311     15.2  17.10  18.9\n",
            "\n",
            "[10 rows x 13 columns]\n",
            "원본 데이터 통계\n",
            "             CRIM          ZN       INDUS  ...     PTRATIO       LSTAT        MEDV\n",
            "count  506.000000  506.000000  506.000000  ...  506.000000  506.000000  506.000000\n",
            "mean     3.613524   11.363636   11.136779  ...   18.455534   12.653063   22.532806\n",
            "std      8.601545   23.322453    6.860353  ...    2.164946    7.141062    9.197104\n",
            "min      0.006320    0.000000    0.460000  ...   12.600000    1.730000    5.000000\n",
            "25%      0.082045    0.000000    5.190000  ...   17.400000    6.950000   17.025000\n",
            "50%      0.256510    0.000000    9.690000  ...   19.050000   11.360000   21.200000\n",
            "75%      3.677082   12.500000   18.100000  ...   20.200000   16.955000   25.000000\n",
            "max     88.976200  100.000000   27.740000  ...   22.000000   37.970000   50.000000\n",
            "\n",
            "[8 rows x 13 columns]\n"
          ],
          "name": "stdout"
        }
      ]
    },
    {
      "cell_type": "code",
      "metadata": {
        "colab": {
          "base_uri": "https://localhost:8080/",
          "height": 487
        },
        "id": "wGdrvV9zVoWv",
        "outputId": "f4dc8bd6-32da-46bf-9a8b-d4abe6b77dc9"
      },
      "source": [
        "plt.figure(figsize = (15,8))\r\n",
        "sns.set(font_scale = 1.5)\r\n",
        "sns.boxplot(data = raw, palette = 'dark')\r\n",
        "plt.show()"
      ],
      "execution_count": 4,
      "outputs": [
        {
          "output_type": "display_data",
          "data": {
            "image/png": "[encoded data removed]",
            "text/plain": [
              "<Figure size 1080x576 with 1 Axes>"
            ]
          },
          "metadata": {
            "tags": [],
            "needs_background": "light"
          }
        }
      ]
    },
    {
      "cell_type": "code",
      "metadata": {
        "id": "nBy3x_aPAzb_",
        "colab": {
          "base_uri": "https://localhost:8080/"
        },
        "outputId": "c43b66ed-7432-40e8-8614-92d1767b1e1d"
      },
      "source": [
        "scaler = StandardScaler()\r\n",
        "z_data = scaler.fit_transform(raw)\r\n",
        "\r\n",
        "print(type(raw))\r\n",
        "print(type(z_data))\r\n",
        "\r\n",
        "#pandas to numpy reshape\r\n",
        "z_data = pd.DataFrame(z_data, columns=heading)\r\n",
        "print(type(z_data))"
      ],
      "execution_count": 5,
      "outputs": [
        {
          "output_type": "stream",
          "text": [
            "<class 'pandas.core.frame.DataFrame'>\n",
            "<class 'numpy.ndarray'>\n",
            "<class 'pandas.core.frame.DataFrame'>\n"
          ],
          "name": "stdout"
        }
      ]
    },
    {
      "cell_type": "code",
      "metadata": {
        "colab": {
          "base_uri": "https://localhost:8080/"
        },
        "id": "qsVao9fJTgVf",
        "outputId": "636dc36d-1599-4ccf-8992-353a4f4fa543"
      },
      "source": [
        "print('원본 데이터 출력')\r\n",
        "print(z_data.head(10))\r\n",
        "\r\n",
        "print('원본 데이터 통계')\r\n",
        "print(z_data.describe())"
      ],
      "execution_count": 6,
      "outputs": [
        {
          "output_type": "stream",
          "text": [
            "원본 데이터 출력\n",
            "       CRIM        ZM     INDUS  ...   PTRATIO     LSTAT      MEDV\n",
            "0 -0.419782  0.284830 -1.287909  ... -1.459000 -1.075562  0.159686\n",
            "1 -0.417339 -0.487722 -0.593381  ... -0.303094 -0.492439 -0.101524\n",
            "2 -0.417342 -0.487722 -0.593381  ... -0.303094 -1.208727  1.324247\n",
            "3 -0.416750 -0.487722 -1.306878  ...  0.113032 -1.361517  1.182758\n",
            "4 -0.412482 -0.487722 -1.306878  ...  0.113032 -1.026501  1.487503\n",
            "5 -0.417044 -0.487722 -1.306878  ...  0.113032 -1.043322  0.671222\n",
            "6 -0.410243  0.048772 -0.476654  ... -1.505237 -0.031268  0.039964\n",
            "7 -0.403696  0.048772 -0.476654  ... -1.505237  0.910700  0.497082\n",
            "8 -0.395935  0.048772 -0.476654  ... -1.505237  2.421774 -0.656595\n",
            "9 -0.400729  0.048772 -0.476654  ... -1.505237  0.623344 -0.395385\n",
            "\n",
            "[10 rows x 13 columns]\n",
            "원본 데이터 통계\n",
            "               CRIM            ZM  ...         LSTAT          MEDV\n",
            "count  5.060000e+02  5.060000e+02  ...  5.060000e+02  5.060000e+02\n",
            "mean  -8.688702e-17  3.306534e-16  ... -1.595123e-16 -4.247810e-16\n",
            "std    1.000990e+00  1.000990e+00  ...  1.000990e+00  1.000990e+00\n",
            "min   -4.197819e-01 -4.877224e-01  ... -1.531127e+00 -1.908226e+00\n",
            "25%   -4.109696e-01 -4.877224e-01  ... -7.994200e-01 -5.994557e-01\n",
            "50%   -3.906665e-01 -4.877224e-01  ... -1.812536e-01 -1.450593e-01\n",
            "75%    7.396560e-03  4.877224e-02  ...  6.030188e-01  2.685231e-01\n",
            "max    9.933931e+00  3.804234e+00  ...  3.548771e+00  2.989460e+00\n",
            "\n",
            "[8 rows x 13 columns]\n"
          ],
          "name": "stdout"
        }
      ]
    },
    {
      "cell_type": "code",
      "metadata": {
        "colab": {
          "base_uri": "https://localhost:8080/",
          "height": 490
        },
        "id": "xRZOk9hhdcss",
        "outputId": "c71e9001-bd52-48d1-dcae-f12539765400"
      },
      "source": [
        "plt.figure(figsize = (15,8))\r\n",
        "sns.set(font_scale = 1.5)\r\n",
        "sns.boxplot(data = z_data, palette = 'dark')\r\n",
        "plt.show()"
      ],
      "execution_count": 7,
      "outputs": [
        {
          "output_type": "display_data",
          "data": {
            "image/png": "[encoded data removed]",
            "text/plain": [
              "<Figure size 1080x576 with 1 Axes>"
            ]
          },
          "metadata": {
            "tags": []
          }
        }
      ]
    },
    {
      "cell_type": "code",
      "metadata": {
        "colab": {
          "base_uri": "https://localhost:8080/"
        },
        "id": "lf63eAw6Tqxl",
        "outputId": "25826db7-594b-428c-f3c2-1a76d515cb25"
      },
      "source": [
        "print('\\n분리 전 데이터 모양 : ', z_data.shape)\r\n",
        "x_data = z_data.drop('MEDV', axis=1)\r\n",
        "x_data = x_data.drop('CRIM', axis=1)\r\n",
        "\r\n",
        "\r\n",
        "y_data = z_data['MEDV']\r\n",
        "print('-----분리후-----')\r\n",
        "print(x_data.shape)\r\n",
        "print(y_data.shape)\r\n",
        "X_train, X_test, Y_train, Y_test =  \\\r\n",
        "  train_test_split(x_data, y_data, test_size = 0.3)"
      ],
      "execution_count": 8,
      "outputs": [
        {
          "output_type": "stream",
          "text": [
            "\n",
            "분리 전 데이터 모양 :  (506, 13)\n",
            "-----분리후-----\n",
            "(506, 11)\n",
            "(506,)\n"
          ],
          "name": "stdout"
        }
      ]
    },
    {
      "cell_type": "code",
      "metadata": {
        "colab": {
          "base_uri": "https://localhost:8080/"
        },
        "id": "_gRSSLqlU7YP",
        "outputId": "40974e79-0137-4084-e899-a40f01991e12"
      },
      "source": [
        "print('학습용 입력 데이터 모양 : ', X_train.shape)\r\n",
        "print('학습용 출력 데이터 모양 : ', Y_train.shape)\r\n",
        "print('평가용 입력 데이터 모양 : ', X_test.shape)\r\n",
        "print('평가용 출력 데이터 모양 : ', Y_test.shape)"
      ],
      "execution_count": 9,
      "outputs": [
        {
          "output_type": "stream",
          "text": [
            "학습용 입력 데이터 모양 :  (354, 11)\n",
            "학습용 출력 데이터 모양 :  (354,)\n",
            "평가용 입력 데이터 모양 :  (152, 11)\n",
            "평가용 출력 데이터 모양 :  (152,)\n"
          ],
          "name": "stdout"
        }
      ]
    },
    {
      "cell_type": "markdown",
      "metadata": {
        "id": "gUtaqynJWgbb"
      },
      "source": [
        "#3. DNN"
      ]
    },
    {
      "cell_type": "code",
      "metadata": {
        "colab": {
          "base_uri": "https://localhost:8080/"
        },
        "id": "rhrHmCfaWxZu",
        "outputId": "ff0b4fc7-3d10-4155-996d-889ece23e311"
      },
      "source": [
        "model = Sequential()\r\n",
        "input = X_train.shape[1]\r\n",
        "\r\n",
        "model.add(Dense(units = MY_HIDDEN, input_dim = input, activation = 'relu'))\r\n",
        "model.add(Dense(MY_HIDDEN, activation='relu'))\r\n",
        "model.add(Dense(MY_HIDDEN, activation='relu'))\r\n",
        "model.add(Dense(MY_HIDDEN, activation='relu'))\r\n",
        "model.add(Dropout(0.4))\r\n",
        "\r\n",
        "model.add(Dense(MY_HIDDEN/2, activation='relu'))\r\n",
        "model.add(Dense(MY_HIDDEN/2, activation='relu'))\r\n",
        "model.add(Dense(MY_HIDDEN/2, activation='relu'))\r\n",
        "model.add(Dropout(0.4))\r\n",
        "\r\n",
        "model.add(Dense(MY_HIDDEN/4, activation='relu'))\r\n",
        "model.add(Dense(MY_HIDDEN/4, activation='relu'))\r\n",
        "model.add(Dense(MY_HIDDEN/4, activation='relu'))\r\n",
        "model.add(Dropout(0.4))\r\n",
        "\r\n",
        "model.add(Dense(MY_HIDDEN/8, activation='relu'))\r\n",
        "model.add(Dense(MY_HIDDEN/8, activation='relu'))\r\n",
        "model.add(Dense(MY_HIDDEN/8, activation='relu'))\r\n",
        "model.add(Dropout(0.4))\r\n",
        "\r\n",
        "model.add(Dense(MY_HIDDEN/16, activation='relu'))\r\n",
        "model.add(Dense(MY_HIDDEN/16, activation='relu'))\r\n",
        "model.add(Dense(MY_HIDDEN/16, activation='relu'))\r\n",
        "model.add(Dropout(0.4))\r\n",
        "\r\n",
        "model.add(Dense(1))\r\n",
        "model.summary()"
      ],
      "execution_count": 10,
      "outputs": [
        {
          "output_type": "stream",
          "text": [
            "Model: \"sequential\"\n",
            "_________________________________________________________________\n",
            "Layer (type)                 Output Shape              Param #   \n",
            "=================================================================\n",
            "dense (Dense)                (None, 4000)              48000     \n",
            "_________________________________________________________________\n",
            "dense_1 (Dense)              (None, 4000)              16004000  \n",
            "_________________________________________________________________\n",
            "dense_2 (Dense)              (None, 4000)              16004000  \n",
            "_________________________________________________________________\n",
            "dense_3 (Dense)              (None, 4000)              16004000  \n",
            "_________________________________________________________________\n",
            "dropout (Dropout)            (None, 4000)              0         \n",
            "_________________________________________________________________\n",
            "dense_4 (Dense)              (None, 2000)              8002000   \n",
            "_________________________________________________________________\n",
            "dense_5 (Dense)              (None, 2000)              4002000   \n",
            "_________________________________________________________________\n",
            "dense_6 (Dense)              (None, 2000)              4002000   \n",
            "_________________________________________________________________\n",
            "dropout_1 (Dropout)          (None, 2000)              0         \n",
            "_________________________________________________________________\n",
            "dense_7 (Dense)              (None, 1000)              2001000   \n",
            "_________________________________________________________________\n",
            "dense_8 (Dense)              (None, 1000)              1001000   \n",
            "_________________________________________________________________\n",
            "dense_9 (Dense)              (None, 1000)              1001000   \n",
            "_________________________________________________________________\n",
            "dropout_2 (Dropout)          (None, 1000)              0         \n",
            "_________________________________________________________________\n",
            "dense_10 (Dense)             (None, 500)               500500    \n",
            "_________________________________________________________________\n",
            "dense_11 (Dense)             (None, 500)               250500    \n",
            "_________________________________________________________________\n",
            "dense_12 (Dense)             (None, 500)               250500    \n",
            "_________________________________________________________________\n",
            "dropout_3 (Dropout)          (None, 500)               0         \n",
            "_________________________________________________________________\n",
            "dense_13 (Dense)             (None, 250)               125250    \n",
            "_________________________________________________________________\n",
            "dense_14 (Dense)             (None, 250)               62750     \n",
            "_________________________________________________________________\n",
            "dense_15 (Dense)             (None, 250)               62750     \n",
            "_________________________________________________________________\n",
            "dropout_4 (Dropout)          (None, 250)               0         \n",
            "_________________________________________________________________\n",
            "dense_16 (Dense)             (None, 1)                 251       \n",
            "=================================================================\n",
            "Total params: 69,321,501\n",
            "Trainable params: 69,321,501\n",
            "Non-trainable params: 0\n",
            "_________________________________________________________________\n"
          ],
          "name": "stdout"
        }
      ]
    },
    {
      "cell_type": "markdown",
      "metadata": {
        "id": "lv8xdFxKlsrk"
      },
      "source": [
        "#DNN training"
      ]
    },
    {
      "cell_type": "code",
      "metadata": {
        "colab": {
          "base_uri": "https://localhost:8080/"
        },
        "id": "TU2fi7ova8aY",
        "outputId": "928083f9-8311-40a3-8bba-851e97c5e470"
      },
      "source": [
        "model.compile(optimizer = 'adam', loss = 'mse')\r\n",
        "\r\n",
        "print('DNN 학습 시작')\r\n",
        "begin = time()\r\n",
        "\r\n",
        "model.fit(X_train, Y_train, epochs = MY_EPOCH, batch_size = MY_BATCH, verbose =  1)\r\n",
        "end = time()\r\n",
        "print('train time : {:.1f}sec'.format(end-begin))"
      ],
      "execution_count": 11,
      "outputs": [
        {
          "output_type": "stream",
          "text": [
            "DNN 학습 시작\n",
            "Epoch 1/150\n",
            "71/71 [==============================] - 2s 7ms/step - loss: 1.0788\n",
            "Epoch 2/150\n",
            "71/71 [==============================] - 0s 6ms/step - loss: 0.9987\n",
            "Epoch 3/150\n",
            "71/71 [==============================] - 0s 6ms/step - loss: 0.6948\n",
            "Epoch 4/150\n",
            "71/71 [==============================] - 0s 6ms/step - loss: 0.9681\n",
            "Epoch 5/150\n",
            "71/71 [==============================] - 0s 6ms/step - loss: 1.0579\n",
            "Epoch 6/150\n",
            "71/71 [==============================] - 0s 7ms/step - loss: 0.9970\n",
            "Epoch 7/150\n",
            "71/71 [==============================] - 0s 6ms/step - loss: 2.9855\n",
            "Epoch 8/150\n",
            "71/71 [==============================] - 0s 6ms/step - loss: 0.9022\n",
            "Epoch 9/150\n",
            "71/71 [==============================] - 0s 7ms/step - loss: 0.9633\n",
            "Epoch 10/150\n",
            "71/71 [==============================] - 0s 6ms/step - loss: 0.8566\n",
            "Epoch 11/150\n",
            "71/71 [==============================] - 0s 7ms/step - loss: 0.9289\n",
            "Epoch 12/150\n",
            "71/71 [==============================] - 0s 6ms/step - loss: 0.8173\n",
            "Epoch 13/150\n",
            "71/71 [==============================] - 0s 7ms/step - loss: 0.7953\n",
            "Epoch 14/150\n",
            "71/71 [==============================] - 0s 7ms/step - loss: 0.7940\n",
            "Epoch 15/150\n",
            "71/71 [==============================] - 0s 6ms/step - loss: 0.8701\n",
            "Epoch 16/150\n",
            "71/71 [==============================] - 0s 7ms/step - loss: 0.5096\n",
            "Epoch 17/150\n",
            "71/71 [==============================] - 0s 6ms/step - loss: 0.5731\n",
            "Epoch 18/150\n",
            "71/71 [==============================] - 0s 6ms/step - loss: 0.6948\n",
            "Epoch 19/150\n",
            "71/71 [==============================] - 0s 6ms/step - loss: 0.5549\n",
            "Epoch 20/150\n",
            "71/71 [==============================] - 0s 6ms/step - loss: 0.8091\n",
            "Epoch 21/150\n",
            "71/71 [==============================] - 0s 7ms/step - loss: 0.7297\n",
            "Epoch 22/150\n",
            "71/71 [==============================] - 0s 7ms/step - loss: 0.5887\n",
            "Epoch 23/150\n",
            "71/71 [==============================] - 0s 7ms/step - loss: 0.6520\n",
            "Epoch 24/150\n",
            "71/71 [==============================] - 0s 6ms/step - loss: 0.5846\n",
            "Epoch 25/150\n",
            "71/71 [==============================] - 0s 6ms/step - loss: 0.3853\n",
            "Epoch 26/150\n",
            "71/71 [==============================] - 0s 6ms/step - loss: 0.4760\n",
            "Epoch 27/150\n",
            "71/71 [==============================] - 0s 7ms/step - loss: 0.4140\n",
            "Epoch 28/150\n",
            "71/71 [==============================] - 0s 6ms/step - loss: 0.4427\n",
            "Epoch 29/150\n",
            "71/71 [==============================] - 0s 6ms/step - loss: 0.3224\n",
            "Epoch 30/150\n",
            "71/71 [==============================] - 0s 7ms/step - loss: 0.3197\n",
            "Epoch 31/150\n",
            "71/71 [==============================] - 0s 6ms/step - loss: 0.5265\n",
            "Epoch 32/150\n",
            "71/71 [==============================] - 0s 6ms/step - loss: 0.4041\n",
            "Epoch 33/150\n",
            "71/71 [==============================] - 0s 6ms/step - loss: 0.3013\n",
            "Epoch 34/150\n",
            "71/71 [==============================] - 0s 6ms/step - loss: 0.2363\n",
            "Epoch 35/150\n",
            "71/71 [==============================] - 0s 6ms/step - loss: 0.2178\n",
            "Epoch 36/150\n",
            "71/71 [==============================] - 0s 6ms/step - loss: 0.2656\n",
            "Epoch 37/150\n",
            "71/71 [==============================] - 0s 6ms/step - loss: 0.3143\n",
            "Epoch 38/150\n",
            "71/71 [==============================] - 0s 6ms/step - loss: 0.3387\n",
            "Epoch 39/150\n",
            "71/71 [==============================] - 0s 6ms/step - loss: 0.2290\n",
            "Epoch 40/150\n",
            "71/71 [==============================] - 0s 6ms/step - loss: 0.1675\n",
            "Epoch 41/150\n",
            "71/71 [==============================] - 0s 6ms/step - loss: 0.1989\n",
            "Epoch 42/150\n",
            "71/71 [==============================] - 0s 7ms/step - loss: 0.2113\n",
            "Epoch 43/150\n",
            "71/71 [==============================] - 0s 6ms/step - loss: 0.1773\n",
            "Epoch 44/150\n",
            "71/71 [==============================] - 0s 6ms/step - loss: 0.3364\n",
            "Epoch 45/150\n",
            "71/71 [==============================] - 0s 6ms/step - loss: 0.2558\n",
            "Epoch 46/150\n",
            "71/71 [==============================] - 0s 6ms/step - loss: 0.1880\n",
            "Epoch 47/150\n",
            "71/71 [==============================] - 0s 7ms/step - loss: 0.1616\n",
            "Epoch 48/150\n",
            "71/71 [==============================] - 0s 6ms/step - loss: 0.2145\n",
            "Epoch 49/150\n",
            "71/71 [==============================] - 0s 6ms/step - loss: 0.1751\n",
            "Epoch 50/150\n",
            "71/71 [==============================] - 0s 6ms/step - loss: 0.1765\n",
            "Epoch 51/150\n",
            "71/71 [==============================] - 0s 6ms/step - loss: 0.1750\n",
            "Epoch 52/150\n",
            "71/71 [==============================] - 0s 6ms/step - loss: 0.1223\n",
            "Epoch 53/150\n",
            "71/71 [==============================] - 0s 6ms/step - loss: 0.1912\n",
            "Epoch 54/150\n",
            "71/71 [==============================] - 0s 6ms/step - loss: 0.1848\n",
            "Epoch 55/150\n",
            "71/71 [==============================] - 0s 6ms/step - loss: 0.2024\n",
            "Epoch 56/150\n",
            "71/71 [==============================] - 0s 6ms/step - loss: 0.2289\n",
            "Epoch 57/150\n",
            "71/71 [==============================] - 0s 6ms/step - loss: 0.1910\n",
            "Epoch 58/150\n",
            "71/71 [==============================] - 0s 6ms/step - loss: 0.1943\n",
            "Epoch 59/150\n",
            "71/71 [==============================] - 0s 6ms/step - loss: 0.1553\n",
            "Epoch 60/150\n",
            "71/71 [==============================] - 0s 6ms/step - loss: 0.1515\n",
            "Epoch 61/150\n",
            "71/71 [==============================] - 0s 6ms/step - loss: 0.1436\n",
            "Epoch 62/150\n",
            "71/71 [==============================] - 0s 6ms/step - loss: 0.1154\n",
            "Epoch 63/150\n",
            "71/71 [==============================] - 0s 6ms/step - loss: 0.1362\n",
            "Epoch 64/150\n",
            "71/71 [==============================] - 0s 6ms/step - loss: 0.1459\n",
            "Epoch 65/150\n",
            "71/71 [==============================] - 0s 6ms/step - loss: 0.1218\n",
            "Epoch 66/150\n",
            "71/71 [==============================] - 0s 6ms/step - loss: 0.1628\n",
            "Epoch 67/150\n",
            "71/71 [==============================] - 0s 6ms/step - loss: 0.2039\n",
            "Epoch 68/150\n",
            "71/71 [==============================] - 0s 6ms/step - loss: 0.1832\n",
            "Epoch 69/150\n",
            "71/71 [==============================] - 0s 6ms/step - loss: 0.1203\n",
            "Epoch 70/150\n",
            "71/71 [==============================] - 0s 7ms/step - loss: 0.1660\n",
            "Epoch 71/150\n",
            "71/71 [==============================] - 0s 6ms/step - loss: 0.1454\n",
            "Epoch 72/150\n",
            "71/71 [==============================] - 0s 6ms/step - loss: 0.1429\n",
            "Epoch 73/150\n",
            "71/71 [==============================] - 0s 6ms/step - loss: 0.1803\n",
            "Epoch 74/150\n",
            "71/71 [==============================] - 0s 6ms/step - loss: 0.1525\n",
            "Epoch 75/150\n",
            "71/71 [==============================] - 0s 6ms/step - loss: 0.1409\n",
            "Epoch 76/150\n",
            "71/71 [==============================] - 0s 6ms/step - loss: 0.1348\n",
            "Epoch 77/150\n",
            "71/71 [==============================] - 0s 6ms/step - loss: 0.1477\n",
            "Epoch 78/150\n",
            "71/71 [==============================] - 0s 6ms/step - loss: 0.1198\n",
            "Epoch 79/150\n",
            "71/71 [==============================] - 0s 6ms/step - loss: 0.1870\n",
            "Epoch 80/150\n",
            "71/71 [==============================] - 0s 6ms/step - loss: 0.1303\n",
            "Epoch 81/150\n",
            "71/71 [==============================] - 0s 6ms/step - loss: 0.1148\n",
            "Epoch 82/150\n",
            "71/71 [==============================] - 0s 6ms/step - loss: 0.1328\n",
            "Epoch 83/150\n",
            "71/71 [==============================] - 0s 6ms/step - loss: 0.2182\n",
            "Epoch 84/150\n",
            "71/71 [==============================] - 0s 6ms/step - loss: 0.1474\n",
            "Epoch 85/150\n",
            "71/71 [==============================] - 0s 6ms/step - loss: 0.2054\n",
            "Epoch 86/150\n",
            "71/71 [==============================] - 0s 7ms/step - loss: 0.1478\n",
            "Epoch 87/150\n",
            "71/71 [==============================] - 0s 6ms/step - loss: 0.2180\n",
            "Epoch 88/150\n",
            "71/71 [==============================] - 0s 6ms/step - loss: 0.2269\n",
            "Epoch 89/150\n",
            "71/71 [==============================] - 0s 6ms/step - loss: 0.1783\n",
            "Epoch 90/150\n",
            "71/71 [==============================] - 0s 6ms/step - loss: 0.1172\n",
            "Epoch 91/150\n",
            "71/71 [==============================] - 0s 6ms/step - loss: 0.0973\n",
            "Epoch 92/150\n",
            "71/71 [==============================] - 0s 7ms/step - loss: 0.1307\n",
            "Epoch 93/150\n",
            "71/71 [==============================] - 0s 6ms/step - loss: 0.1319\n",
            "Epoch 94/150\n",
            "71/71 [==============================] - 0s 6ms/step - loss: 0.0993\n",
            "Epoch 95/150\n",
            "71/71 [==============================] - 0s 6ms/step - loss: 0.1490\n",
            "Epoch 96/150\n",
            "71/71 [==============================] - 0s 6ms/step - loss: 0.1318\n",
            "Epoch 97/150\n",
            "71/71 [==============================] - 0s 6ms/step - loss: 0.1769\n",
            "Epoch 98/150\n",
            "71/71 [==============================] - 0s 7ms/step - loss: 0.1282\n",
            "Epoch 99/150\n",
            "71/71 [==============================] - 0s 6ms/step - loss: 0.1939\n",
            "Epoch 100/150\n",
            "71/71 [==============================] - 0s 7ms/step - loss: 0.1767\n",
            "Epoch 101/150\n",
            "71/71 [==============================] - 0s 6ms/step - loss: 0.1384\n",
            "Epoch 102/150\n",
            "71/71 [==============================] - 0s 7ms/step - loss: 0.1326\n",
            "Epoch 103/150\n",
            "71/71 [==============================] - 0s 7ms/step - loss: 0.1530\n",
            "Epoch 104/150\n",
            "71/71 [==============================] - 0s 7ms/step - loss: 0.1196\n",
            "Epoch 105/150\n",
            "71/71 [==============================] - 0s 6ms/step - loss: 0.1244\n",
            "Epoch 106/150\n",
            "71/71 [==============================] - 0s 6ms/step - loss: 0.1007\n",
            "Epoch 107/150\n",
            "71/71 [==============================] - 0s 7ms/step - loss: 0.1054\n",
            "Epoch 108/150\n",
            "71/71 [==============================] - 0s 7ms/step - loss: 0.0876\n",
            "Epoch 109/150\n",
            "71/71 [==============================] - 0s 7ms/step - loss: 0.1291\n",
            "Epoch 110/150\n",
            "71/71 [==============================] - 0s 6ms/step - loss: 0.1232\n",
            "Epoch 111/150\n",
            "71/71 [==============================] - 0s 7ms/step - loss: 0.1774\n",
            "Epoch 112/150\n",
            "71/71 [==============================] - 0s 6ms/step - loss: 0.1295\n",
            "Epoch 113/150\n",
            "71/71 [==============================] - 0s 7ms/step - loss: 0.2353\n",
            "Epoch 114/150\n",
            "71/71 [==============================] - 0s 7ms/step - loss: 0.1027\n",
            "Epoch 115/150\n",
            "71/71 [==============================] - 0s 7ms/step - loss: 0.1253\n",
            "Epoch 116/150\n",
            "71/71 [==============================] - 0s 6ms/step - loss: 0.1093\n",
            "Epoch 117/150\n",
            "71/71 [==============================] - 0s 6ms/step - loss: 0.0980\n",
            "Epoch 118/150\n",
            "71/71 [==============================] - 0s 6ms/step - loss: 0.1090\n",
            "Epoch 119/150\n",
            "71/71 [==============================] - 0s 7ms/step - loss: 0.0988\n",
            "Epoch 120/150\n",
            "71/71 [==============================] - 0s 6ms/step - loss: 0.1022\n",
            "Epoch 121/150\n",
            "71/71 [==============================] - 0s 7ms/step - loss: 0.0866\n",
            "Epoch 122/150\n",
            "71/71 [==============================] - 0s 7ms/step - loss: 0.1236\n",
            "Epoch 123/150\n",
            "71/71 [==============================] - 0s 6ms/step - loss: 0.1684\n",
            "Epoch 124/150\n",
            "71/71 [==============================] - 0s 7ms/step - loss: 0.1290\n",
            "Epoch 125/150\n",
            "71/71 [==============================] - 0s 7ms/step - loss: 0.1389\n",
            "Epoch 126/150\n",
            "71/71 [==============================] - 0s 6ms/step - loss: 0.1122\n",
            "Epoch 127/150\n",
            "71/71 [==============================] - 0s 6ms/step - loss: 0.1404\n",
            "Epoch 128/150\n",
            "71/71 [==============================] - 0s 7ms/step - loss: 0.1605\n",
            "Epoch 129/150\n",
            "71/71 [==============================] - 0s 6ms/step - loss: 0.1170\n",
            "Epoch 130/150\n",
            "71/71 [==============================] - 0s 6ms/step - loss: 0.1321\n",
            "Epoch 131/150\n",
            "71/71 [==============================] - 0s 6ms/step - loss: 0.0902\n",
            "Epoch 132/150\n",
            "71/71 [==============================] - 0s 6ms/step - loss: 0.1073\n",
            "Epoch 133/150\n",
            "71/71 [==============================] - 0s 6ms/step - loss: 0.1227\n",
            "Epoch 134/150\n",
            "71/71 [==============================] - 0s 6ms/step - loss: 0.1569\n",
            "Epoch 135/150\n",
            "71/71 [==============================] - 0s 6ms/step - loss: 0.1001\n",
            "Epoch 136/150\n",
            "71/71 [==============================] - 0s 7ms/step - loss: 0.1050\n",
            "Epoch 137/150\n",
            "71/71 [==============================] - 0s 7ms/step - loss: 0.1037\n",
            "Epoch 138/150\n",
            "71/71 [==============================] - 0s 7ms/step - loss: 0.1456\n",
            "Epoch 139/150\n",
            "71/71 [==============================] - 0s 7ms/step - loss: 27.0697\n",
            "Epoch 140/150\n",
            "71/71 [==============================] - 0s 6ms/step - loss: 0.1699\n",
            "Epoch 141/150\n",
            "71/71 [==============================] - 0s 7ms/step - loss: 0.1496\n",
            "Epoch 142/150\n",
            "71/71 [==============================] - 0s 6ms/step - loss: 0.0884\n",
            "Epoch 143/150\n",
            "71/71 [==============================] - 0s 6ms/step - loss: 0.1186\n",
            "Epoch 144/150\n",
            "71/71 [==============================] - 0s 6ms/step - loss: 0.0877\n",
            "Epoch 145/150\n",
            "71/71 [==============================] - 0s 6ms/step - loss: 0.1349\n",
            "Epoch 146/150\n",
            "71/71 [==============================] - 0s 7ms/step - loss: 0.0701\n",
            "Epoch 147/150\n",
            "71/71 [==============================] - 0s 6ms/step - loss: 0.0792\n",
            "Epoch 148/150\n",
            "71/71 [==============================] - 0s 6ms/step - loss: 0.1048\n",
            "Epoch 149/150\n",
            "71/71 [==============================] - 0s 6ms/step - loss: 0.2388\n",
            "Epoch 150/150\n",
            "71/71 [==============================] - 0s 7ms/step - loss: 0.0965\n",
            "train time : 70.8sec\n"
          ],
          "name": "stdout"
        }
      ]
    },
    {
      "cell_type": "markdown",
      "metadata": {
        "id": "IyhfhcLrp7hC"
      },
      "source": [
        "#DNN model evaluate"
      ]
    },
    {
      "cell_type": "code",
      "metadata": {
        "colab": {
          "base_uri": "https://localhost:8080/"
        },
        "id": "iLsy_yzSr_Ak",
        "outputId": "dd7f8b95-9915-4d7f-8aa0-55a132f32ece"
      },
      "source": [
        "loss = model.evaluate(X_test, Y_test, verbose = 1)\r\n",
        "print('\\n loss : {:.3f}'.format(loss))"
      ],
      "execution_count": 12,
      "outputs": [
        {
          "output_type": "stream",
          "text": [
            "5/5 [==============================] - 0s 2ms/step - loss: 0.1224\n",
            "\n",
            " loss : 0.122\n"
          ],
          "name": "stdout"
        }
      ]
    },
    {
      "cell_type": "markdown",
      "metadata": {
        "id": "FecQ2eo7Gxu0"
      },
      "source": [
        "#predict graph"
      ]
    },
    {
      "cell_type": "code",
      "metadata": {
        "colab": {
          "base_uri": "https://localhost:8080/",
          "height": 354
        },
        "id": "0LL92_GDsQBq",
        "outputId": "5e693bca-9add-426e-a351-7c5c3fd9bdfe"
      },
      "source": [
        "pred = model.predict(X_test)\r\n",
        "sns.regplot(Y_test, pred)\r\n",
        "plt.xlabel(\"Actual Valuse\")\r\n",
        "plt.ylabel(\"Predicted Values\")\r\n",
        "plt.show()"
      ],
      "execution_count": 13,
      "outputs": [
        {
          "output_type": "stream",
          "text": [
            "/usr/local/lib/python3.6/dist-packages/seaborn/_decorators.py:43: FutureWarning: Pass the following variables as keyword args: x, y. From version 0.12, the only valid positional argument will be `data`, and passing other arguments without an explicit keyword will result in an error or misinterpretation.\n",
            "  FutureWarning\n"
          ],
          "name": "stderr"
        },
        {
          "output_type": "display_data",
          "data": {
            "image/png": "[encoded data removed]",
            "text/plain": [
              "<Figure size 432x288 with 1 Axes>"
            ]
          },
          "metadata": {
            "tags": []
          }
        }
      ]
    },
    {
      "cell_type": "markdown",
      "metadata": {
        "id": "PhMAv7jcieC6"
      },
      "source": [
        ""
      ]
    }
  ]
}